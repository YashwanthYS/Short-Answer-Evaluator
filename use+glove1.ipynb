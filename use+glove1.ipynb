{
  "nbformat": 4,
  "nbformat_minor": 0,
  "metadata": {
    "colab": {
      "provenance": [],
      "collapsed_sections": []
    },
    "kernelspec": {
      "name": "python3",
      "display_name": "Python 3"
    },
    "accelerator": "GPU"
  },
  "cells": [
    {
      "cell_type": "markdown",
      "metadata": {
        "id": "bQzKN9j-Gf66"
      },
      "source": [
        "## **Short Question Answer Evaluation Using Glove And Universal Sentence Encoder**"
      ]
    },
    {
      "cell_type": "code",
      "metadata": {
        "id": "kf3YbYwoJjqF",
        "colab": {
          "base_uri": "https://localhost:8080/"
        },
        "outputId": "cd86dbfd-25e8-47d5-a5a8-74fb90f66a7e"
      },
      "source": [
        "#Required Libraries\n",
        "\n",
        "from __future__ import print_function\n",
        "import numpy as np\n",
        "import csv, json\n",
        "from zipfile import ZipFile\n",
        "from os.path import expanduser, exists\n",
        "import pandas as pd\n",
        "from nltk.tokenize import word_tokenize,sent_tokenize\n",
        "!pip install sentence_transformers\n",
        "from sentence_transformers import SentenceTransformer, util\n",
        "from nltk.stem import PorterStemmer\n",
        "from wordcloud import WordCloud, STOPWORDS\n",
        "from matplotlib.pyplot import pie, axis, show\n",
        "import matplotlib.pyplot as plt\n",
        "\n",
        "\n",
        "from keras.preprocessing.text import Tokenizer\n",
        "from keras.preprocessing.sequence import pad_sequences\n",
        "from keras.utils.data_utils import get_file\n",
        "\n",
        "%matplotlib inline\n",
        "import datetime, time, json\n",
        "from keras.models import Model\n",
        "from keras.layers import Input, Bidirectional, LSTM, dot, Flatten, Dense, Reshape, add, Dropout, BatchNormalization, Conv1D\n",
        "from keras.layers.embeddings import Embedding\n",
        "from keras.regularizers import l2\n",
        "from keras.callbacks import Callback, ModelCheckpoint\n",
        "from keras import backend as K\n",
        "from sklearn.model_selection import train_test_split\n",
        "from keras.layers import Conv1D , MaxPooling1D, Flatten,Dense,Input,Lambda"
      ],
      "execution_count": null,
      "outputs": [
        {
          "output_type": "stream",
          "text": [
            "Collecting sentence_transformers\n",
            "\u001b[?25l  Downloading https://files.pythonhosted.org/packages/6a/e2/84d6acfcee2d83164149778a33b6bdd1a74e1bcb59b2b2cd1b861359b339/sentence-transformers-0.4.1.2.tar.gz (64kB)\n",
            "\u001b[K     |████████████████████████████████| 71kB 5.4MB/s \n",
            "\u001b[?25hCollecting transformers<5.0.0,>=3.1.0\n",
            "\u001b[?25l  Downloading https://files.pythonhosted.org/packages/50/0c/7d5950fcd80b029be0a8891727ba21e0cd27692c407c51261c3c921f6da3/transformers-4.1.1-py3-none-any.whl (1.5MB)\n",
            "\u001b[K     |████████████████████████████████| 1.5MB 11.4MB/s \n",
            "\u001b[?25hRequirement already satisfied: tqdm in /usr/local/lib/python3.6/dist-packages (from sentence_transformers) (4.41.1)\n",
            "Requirement already satisfied: torch>=1.6.0 in /usr/local/lib/python3.6/dist-packages (from sentence_transformers) (1.7.0+cu101)\n",
            "Requirement already satisfied: numpy in /usr/local/lib/python3.6/dist-packages (from sentence_transformers) (1.19.5)\n",
            "Requirement already satisfied: scikit-learn in /usr/local/lib/python3.6/dist-packages (from sentence_transformers) (0.22.2.post1)\n",
            "Requirement already satisfied: scipy in /usr/local/lib/python3.6/dist-packages (from sentence_transformers) (1.4.1)\n",
            "Requirement already satisfied: nltk in /usr/local/lib/python3.6/dist-packages (from sentence_transformers) (3.2.5)\n",
            "Collecting sentencepiece\n",
            "\u001b[?25l  Downloading https://files.pythonhosted.org/packages/14/67/e42bd1181472c95c8cda79305df848264f2a7f62740995a46945d9797b67/sentencepiece-0.1.95-cp36-cp36m-manylinux2014_x86_64.whl (1.2MB)\n",
            "\u001b[K     |████████████████████████████████| 1.2MB 30.6MB/s \n",
            "\u001b[?25hRequirement already satisfied: dataclasses; python_version < \"3.7\" in /usr/local/lib/python3.6/dist-packages (from transformers<5.0.0,>=3.1.0->sentence_transformers) (0.8)\n",
            "Requirement already satisfied: requests in /usr/local/lib/python3.6/dist-packages (from transformers<5.0.0,>=3.1.0->sentence_transformers) (2.23.0)\n",
            "Collecting sacremoses\n",
            "\u001b[?25l  Downloading https://files.pythonhosted.org/packages/7d/34/09d19aff26edcc8eb2a01bed8e98f13a1537005d31e95233fd48216eed10/sacremoses-0.0.43.tar.gz (883kB)\n",
            "\u001b[K     |████████████████████████████████| 890kB 44.6MB/s \n",
            "\u001b[?25hRequirement already satisfied: packaging in /usr/local/lib/python3.6/dist-packages (from transformers<5.0.0,>=3.1.0->sentence_transformers) (20.8)\n",
            "Collecting tokenizers==0.9.4\n",
            "\u001b[?25l  Downloading https://files.pythonhosted.org/packages/0f/1c/e789a8b12e28be5bc1ce2156cf87cb522b379be9cadc7ad8091a4cc107c4/tokenizers-0.9.4-cp36-cp36m-manylinux2010_x86_64.whl (2.9MB)\n",
            "\u001b[K     |████████████████████████████████| 2.9MB 55.9MB/s \n",
            "\u001b[?25hRequirement already satisfied: filelock in /usr/local/lib/python3.6/dist-packages (from transformers<5.0.0,>=3.1.0->sentence_transformers) (3.0.12)\n",
            "Requirement already satisfied: regex!=2019.12.17 in /usr/local/lib/python3.6/dist-packages (from transformers<5.0.0,>=3.1.0->sentence_transformers) (2019.12.20)\n",
            "Requirement already satisfied: future in /usr/local/lib/python3.6/dist-packages (from torch>=1.6.0->sentence_transformers) (0.16.0)\n",
            "Requirement already satisfied: typing-extensions in /usr/local/lib/python3.6/dist-packages (from torch>=1.6.0->sentence_transformers) (3.7.4.3)\n",
            "Requirement already satisfied: joblib>=0.11 in /usr/local/lib/python3.6/dist-packages (from scikit-learn->sentence_transformers) (1.0.0)\n",
            "Requirement already satisfied: six in /usr/local/lib/python3.6/dist-packages (from nltk->sentence_transformers) (1.15.0)\n",
            "Requirement already satisfied: urllib3!=1.25.0,!=1.25.1,<1.26,>=1.21.1 in /usr/local/lib/python3.6/dist-packages (from requests->transformers<5.0.0,>=3.1.0->sentence_transformers) (1.24.3)\n",
            "Requirement already satisfied: chardet<4,>=3.0.2 in /usr/local/lib/python3.6/dist-packages (from requests->transformers<5.0.0,>=3.1.0->sentence_transformers) (3.0.4)\n",
            "Requirement already satisfied: idna<3,>=2.5 in /usr/local/lib/python3.6/dist-packages (from requests->transformers<5.0.0,>=3.1.0->sentence_transformers) (2.10)\n",
            "Requirement already satisfied: certifi>=2017.4.17 in /usr/local/lib/python3.6/dist-packages (from requests->transformers<5.0.0,>=3.1.0->sentence_transformers) (2020.12.5)\n",
            "Requirement already satisfied: click in /usr/local/lib/python3.6/dist-packages (from sacremoses->transformers<5.0.0,>=3.1.0->sentence_transformers) (7.1.2)\n",
            "Requirement already satisfied: pyparsing>=2.0.2 in /usr/local/lib/python3.6/dist-packages (from packaging->transformers<5.0.0,>=3.1.0->sentence_transformers) (2.4.7)\n",
            "Building wheels for collected packages: sentence-transformers, sacremoses\n",
            "  Building wheel for sentence-transformers (setup.py) ... \u001b[?25l\u001b[?25hdone\n",
            "  Created wheel for sentence-transformers: filename=sentence_transformers-0.4.1.2-cp36-none-any.whl size=103068 sha256=8a4c60e36bfc5e2a082405ca08950402dde0f6f07a3f8caaedc061693416e5e4\n",
            "  Stored in directory: /root/.cache/pip/wheels/3d/33/d1/5703dd56199c09d4a1b41e0c07fb4e7765a84d787cbdc48ac3\n",
            "  Building wheel for sacremoses (setup.py) ... \u001b[?25l\u001b[?25hdone\n",
            "  Created wheel for sacremoses: filename=sacremoses-0.0.43-cp36-none-any.whl size=893261 sha256=351027850fb39569a92671731c977a51b0265597377ac0d28c2d74c6963f7689\n",
            "  Stored in directory: /root/.cache/pip/wheels/29/3c/fd/7ce5c3f0666dab31a50123635e6fb5e19ceb42ce38d4e58f45\n",
            "Successfully built sentence-transformers sacremoses\n",
            "Installing collected packages: sacremoses, tokenizers, transformers, sentencepiece, sentence-transformers\n",
            "Successfully installed sacremoses-0.0.43 sentence-transformers-0.4.1.2 sentencepiece-0.1.95 tokenizers-0.9.4 transformers-4.1.1\n"
          ],
          "name": "stdout"
        }
      ]
    },
    {
      "cell_type": "code",
      "metadata": {
        "colab": {
          "base_uri": "https://localhost:8080/"
        },
        "id": "lm2blojMYewe",
        "outputId": "6b7dd58d-2662-48b9-f3ea-a2c97e1b2420"
      },
      "source": [
        "import nltk\n",
        "nltk.download('punkt')"
      ],
      "execution_count": null,
      "outputs": [
        {
          "output_type": "stream",
          "text": [
            "[nltk_data] Downloading package punkt to /root/nltk_data...\n",
            "[nltk_data]   Unzipping tokenizers/punkt.zip.\n"
          ],
          "name": "stdout"
        },
        {
          "output_type": "execute_result",
          "data": {
            "text/plain": [
              "True"
            ]
          },
          "metadata": {
            "tags": []
          },
          "execution_count": 2
        }
      ]
    },
    {
      "cell_type": "code",
      "metadata": {
        "id": "w3vKRStLJneO",
        "colab": {
          "base_uri": "https://localhost:8080/"
        },
        "outputId": "f18062ff-782f-4dbe-f953-c84832504b55"
      },
      "source": [
        "#file names for saving intermediate data and constants in the program\n",
        "\n",
        "KERAS_DATASETS_DIR = expanduser('/')\n",
        "GLOVE_ZIP_FILE_URL = 'http://nlp.stanford.edu/data/glove.840B.300d.zip'\n",
        "GLOVE_ZIP_FILE = 'glove.840B.300d.zip'\n",
        "GLOVE_FILE = 'glove.840B.300d.txt'\n",
        "Q1_TRAINING_DATA_FILE = 'q1_train.npy'\n",
        "Q2_TRAINING_DATA_FILE = 'q2_train.npy'\n",
        "LABEL_TRAINING_DATA_FILE = 'label_train.npy'\n",
        "WORD_EMBEDDING_MATRIX_FILE = 'word_embedding_matrix.npy'\n",
        "model3 = SentenceTransformer('distilroberta-base-paraphrase-v1')\n",
        "NB_WORDS_DATA_FILE = 'nb_words.json'\n",
        "MAX_NB_WORDS = 200000\n",
        "MAX_SEQUENCE_LENGTH = 25\n",
        "EMBEDDING_DIM = 300"
      ],
      "execution_count": null,
      "outputs": [
        {
          "output_type": "stream",
          "text": [
            "100%|██████████| 306M/306M [00:18<00:00, 16.4MB/s]\n"
          ],
          "name": "stderr"
        }
      ]
    },
    {
      "cell_type": "code",
      "metadata": {
        "id": "jGQLjXlSJzq0",
        "colab": {
          "base_uri": "https://localhost:8080/"
        },
        "outputId": "b1477c84-f292-4599-e04c-5690839a2152"
      },
      "source": [
        "if not exists(KERAS_DATASETS_DIR + GLOVE_ZIP_FILE):\n",
        "    zipfile = ZipFile(get_file(GLOVE_ZIP_FILE, GLOVE_ZIP_FILE_URL))\n",
        "    zipfile.extract(GLOVE_FILE, path=KERAS_DATASETS_DIR)\n",
        "    \n",
        "print(\"Processing\", GLOVE_FILE)\n",
        "\n",
        "embeddings_index = {}\n",
        "with open(KERAS_DATASETS_DIR + GLOVE_FILE, encoding='utf-8') as f:\n",
        "    for line in f:\n",
        "        values = line.split(' ')\n",
        "        word = values[0]\n",
        "        embedding = np.asarray(values[1:], dtype='float32')\n",
        "        embeddings_index[word] = embedding\n",
        "\n",
        "print('Word embeddings: %d' % len(embeddings_index))"
      ],
      "execution_count": null,
      "outputs": [
        {
          "output_type": "stream",
          "text": [
            "Downloading data from http://nlp.stanford.edu/data/glove.840B.300d.zip\n",
            "2176770048/2176768927 [==============================] - 1014s 0us/step\n",
            "Processing glove.840B.300d.txt\n",
            "Word embeddings: 2196016\n"
          ],
          "name": "stdout"
        }
      ]
    },
    {
      "cell_type": "markdown",
      "metadata": {
        "id": "jh5h6YBRJcMj"
      },
      "source": [
        "#### **Loading the dataset**"
      ]
    },
    {
      "cell_type": "code",
      "metadata": {
        "id": "F7-xBwBCO8_d"
      },
      "source": [
        "df = pd.read_csv('Dataset.csv')\n",
        "#del df['Unnamed: 4']\n",
        "df.dropna(inplace = True)   #Drop of null values from dataset"
      ],
      "execution_count": null,
      "outputs": []
    },
    {
      "cell_type": "code",
      "metadata": {
        "id": "whIX0niVQ0Ul"
      },
      "source": [
        "#Pre-Processing Steps\n",
        "\n",
        "import re\n",
        "import string \n",
        "\n",
        "stemmer_ps = PorterStemmer()\n",
        "\n",
        "#Convert to lower case\n",
        "def text_lowercase(text): \n",
        "    return text.lower()\n",
        "\n",
        "#remove numbers or digits\n",
        "def remove_numbers(text): \n",
        "    result = re.sub(r'\\d+', '', text) \n",
        "    return result\n",
        "\n",
        "#remove punctuations\n",
        "def remove_punctuation(text): \n",
        "    translator = str.maketrans('', '', string.punctuation) \n",
        "    return text.translate(translator)\n",
        "\n",
        "#remove one word sentences\n",
        "def one_word(text):\n",
        "    temp = text.split(' ')\n",
        "    if len(temp)<2:\n",
        "        return float('nan')\n",
        "    return text\n",
        "\n",
        "#remove extra whitespaces\n",
        "def remove_whitespace(text): \n",
        "    return  \" \".join(text.split())\n",
        "\n",
        "#remove html tags\n",
        "def cleanhtml(raw_html):\n",
        "    cleanr = re.compile('<.*?>|</.*?>')\n",
        "    cleantext = re.sub(cleanr, '', raw_html)\n",
        "    return cleantext\n",
        "\n",
        "#Stemming\n",
        "def stemSentence(sentence):\n",
        "    token_words=word_tokenize(sentence) #we need to tokenize the sentence or else stemming will return the entire sentence as is.\n",
        "    stem_sentence=[]\n",
        "    for word in token_words:\n",
        "        stem_sentence.append(stemmer_ps.stem(word))\n",
        "        stem_sentence.append(\" \") #adding a space so that we can join all the words at the end to form the sentence again.\n",
        "    return \"\".join(stem_sentence)\n",
        "\n",
        "#labelling of data\n",
        "def label(text):\n",
        "  if text == 'incorrect':\n",
        "    return 0;\n",
        "  if text == 'correct' :\n",
        "    return 1;"
      ],
      "execution_count": null,
      "outputs": []
    },
    {
      "cell_type": "code",
      "metadata": {
        "id": "cIXN2ZL8muE-",
        "colab": {
          "base_uri": "https://localhost:8080/",
          "height": 306
        },
        "outputId": "e7842784-25d8-435f-c32d-89f1972fbeb3"
      },
      "source": [
        "df.tail()"
      ],
      "execution_count": null,
      "outputs": [
        {
          "output_type": "execute_result",
          "data": {
            "text/html": [
              "<div>\n",
              "<style scoped>\n",
              "    .dataframe tbody tr th:only-of-type {\n",
              "        vertical-align: middle;\n",
              "    }\n",
              "\n",
              "    .dataframe tbody tr th {\n",
              "        vertical-align: top;\n",
              "    }\n",
              "\n",
              "    .dataframe thead th {\n",
              "        text-align: right;\n",
              "    }\n",
              "</style>\n",
              "<table border=\"1\" class=\"dataframe\">\n",
              "  <thead>\n",
              "    <tr style=\"text-align: right;\">\n",
              "      <th></th>\n",
              "      <th>Unnamed: 0</th>\n",
              "      <th>studentAnswer</th>\n",
              "      <th>referenceAnswer</th>\n",
              "      <th>ref_1</th>\n",
              "      <th>ref_2</th>\n",
              "      <th>accuracy</th>\n",
              "    </tr>\n",
              "  </thead>\n",
              "  <tbody>\n",
              "    <tr>\n",
              "      <th>4920</th>\n",
              "      <td>4920</td>\n",
              "      <td>To see if the standard might be faster than th...</td>\n",
              "      <td>A standard is used for comparison to determine...</td>\n",
              "      <td>So that you can see the results of an experime...</td>\n",
              "      <td>You use a standard so you can tell what happen...</td>\n",
              "      <td>incorrect</td>\n",
              "    </tr>\n",
              "    <tr>\n",
              "      <th>4921</th>\n",
              "      <td>4921</td>\n",
              "      <td>Because you can compare the results.</td>\n",
              "      <td>A standard is used for comparison to determine...</td>\n",
              "      <td>So that you can see the results of an experime...</td>\n",
              "      <td>You use a standard so you can tell what happen...</td>\n",
              "      <td>incorrect</td>\n",
              "    </tr>\n",
              "    <tr>\n",
              "      <th>4922</th>\n",
              "      <td>4922</td>\n",
              "      <td>To help control the controlled experiment.</td>\n",
              "      <td>A standard is used for comparison to determine...</td>\n",
              "      <td>So that you can see the results of an experime...</td>\n",
              "      <td>You use a standard so you can tell what happen...</td>\n",
              "      <td>incorrect</td>\n",
              "    </tr>\n",
              "    <tr>\n",
              "      <th>4923</th>\n",
              "      <td>4923</td>\n",
              "      <td>To control any experiment.</td>\n",
              "      <td>A standard is used for comparison to determine...</td>\n",
              "      <td>So that you can see the results of an experime...</td>\n",
              "      <td>You use a standard so you can tell what happen...</td>\n",
              "      <td>incorrect</td>\n",
              "    </tr>\n",
              "    <tr>\n",
              "      <th>4924</th>\n",
              "      <td>4924</td>\n",
              "      <td>Because without a standard you will not know t...</td>\n",
              "      <td>A standard is used for comparison to determine...</td>\n",
              "      <td>So that you can see the results of an experime...</td>\n",
              "      <td>You use a standard so you can tell what happen...</td>\n",
              "      <td>incorrect</td>\n",
              "    </tr>\n",
              "  </tbody>\n",
              "</table>\n",
              "</div>"
            ],
            "text/plain": [
              "      Unnamed: 0  ...   accuracy\n",
              "4920        4920  ...  incorrect\n",
              "4921        4921  ...  incorrect\n",
              "4922        4922  ...  incorrect\n",
              "4923        4923  ...  incorrect\n",
              "4924        4924  ...  incorrect\n",
              "\n",
              "[5 rows x 6 columns]"
            ]
          },
          "metadata": {
            "tags": []
          },
          "execution_count": 7
        }
      ]
    },
    {
      "cell_type": "code",
      "metadata": {
        "colab": {
          "base_uri": "https://localhost:8080/",
          "height": 319
        },
        "id": "KbZuhh0qojO1",
        "outputId": "dd8be311-1dad-466c-fb72-754aeeb12b56"
      },
      "source": [
        "#word cloud of student answers\n",
        "\n",
        "text = df['studentAnswer'].values\n",
        "wordcloud = WordCloud(\n",
        "    width = 500,\n",
        "    height = 200,\n",
        "    background_color = 'black',\n",
        "    stopwords = STOPWORDS).generate(str(text))\n",
        "fig = plt.figure(\n",
        "    figsize = (10, 10),\n",
        "    facecolor = 'k',\n",
        "    edgecolor = 'k')\n",
        "plt.imshow(wordcloud, interpolation = 'bilinear')\n",
        "plt.axis('off')\n",
        "plt.tight_layout(pad=0)\n",
        "plt.show()"
      ],
      "execution_count": null,
      "outputs": [
        {
          "output_type": "display_data",
          "data": {
            "image/png": "[encoded data removed]",
            "text/plain": [
              "<Figure size 720x720 with 1 Axes>"
            ]
          },
          "metadata": {
            "tags": []
          }
        }
      ]
    },
    {
      "cell_type": "code",
      "metadata": {
        "id": "PsnD5zzqQ_oF",
        "colab": {
          "base_uri": "https://localhost:8080/",
          "height": 606
        },
        "outputId": "fb41f65f-45e4-4583-fc3a-c20f364bbae4"
      },
      "source": [
        "# applying the pre-processing steps to all the datapoints in the dataset\n",
        "\n",
        "\n",
        "df['studentAnswer'] = df['studentAnswer'].apply(lambda sen: text_lowercase(sen))\n",
        "df['studentAnswer'] = df['studentAnswer'].apply(lambda sen: remove_punctuation(sen))\n",
        "df['studentAnswer'] = df['studentAnswer'].apply(lambda sen: remove_whitespace(sen))\n",
        "df['studentAnswer'] = df['studentAnswer'].apply(lambda sen: cleanhtml(sen))\n",
        "df['studentAnswer'] = df['studentAnswer'].apply(lambda sen: stemSentence(sen))\n",
        "df['referenceAnswer'] = df['referenceAnswer'].apply(lambda sen: text_lowercase(sen))\n",
        "df['referenceAnswer'] = df['referenceAnswer'].apply(lambda sen: remove_punctuation(sen))\n",
        "df['referenceAnswer'] = df['referenceAnswer'].apply(lambda sen: remove_whitespace(sen))\n",
        "df['referenceAnswer'] = df['referenceAnswer'].apply(lambda sen: cleanhtml(sen))\n",
        "df['referenceAnswer'] = df['referenceAnswer'].apply(lambda sen: stemSentence(sen))\n",
        "df['ref_1'] = df['ref_1'].apply(lambda sen: text_lowercase(sen))\n",
        "df['ref_1'] = df['ref_1'].apply(lambda sen: remove_punctuation(sen))\n",
        "df['ref_1'] = df['ref_1'].apply(lambda sen: remove_whitespace(sen))\n",
        "df['ref_1'] = df['ref_1'].apply(lambda sen: cleanhtml(sen))\n",
        "df['ref_1'] = df['ref_1'].apply(lambda sen: stemSentence(sen))\n",
        "df['ref_2'] = df['ref_2'].apply(lambda sen: text_lowercase(sen))\n",
        "df['ref_2'] = df['ref_2'].apply(lambda sen: remove_punctuation(sen))\n",
        "df['ref_2'] = df['ref_2'].apply(lambda sen: remove_whitespace(sen))\n",
        "df['ref_2'] = df['ref_2'].apply(lambda sen: cleanhtml(sen))\n",
        "df['ref_2'] = df['ref_2'].apply(lambda sen: stemSentence(sen))\n",
        "df['label'] = df['accuracy'].apply(lambda sen: label(sen))\n",
        "df"
      ],
      "execution_count": null,
      "outputs": [
        {
          "output_type": "execute_result",
          "data": {
            "text/html": [
              "<div>\n",
              "<style scoped>\n",
              "    .dataframe tbody tr th:only-of-type {\n",
              "        vertical-align: middle;\n",
              "    }\n",
              "\n",
              "    .dataframe tbody tr th {\n",
              "        vertical-align: top;\n",
              "    }\n",
              "\n",
              "    .dataframe thead th {\n",
              "        text-align: right;\n",
              "    }\n",
              "</style>\n",
              "<table border=\"1\" class=\"dataframe\">\n",
              "  <thead>\n",
              "    <tr style=\"text-align: right;\">\n",
              "      <th></th>\n",
              "      <th>Unnamed: 0</th>\n",
              "      <th>studentAnswer</th>\n",
              "      <th>referenceAnswer</th>\n",
              "      <th>ref_1</th>\n",
              "      <th>ref_2</th>\n",
              "      <th>accuracy</th>\n",
              "      <th>label</th>\n",
              "    </tr>\n",
              "  </thead>\n",
              "  <tbody>\n",
              "    <tr>\n",
              "      <th>0</th>\n",
              "      <td>0</td>\n",
              "      <td>by let it sit in a dish for a day</td>\n",
              "      <td>the water wa evapor leav the salt</td>\n",
              "      <td>we evapor the salt from the water becaus the w...</td>\n",
              "      <td>i put some water in a dish and let the water e...</td>\n",
              "      <td>incorrect</td>\n",
              "      <td>0</td>\n",
              "    </tr>\n",
              "    <tr>\n",
              "      <th>1</th>\n",
              "      <td>1</td>\n",
              "      <td>let the water evapor and the salt is left behind</td>\n",
              "      <td>the water wa evapor leav the salt</td>\n",
              "      <td>we evapor the salt from the water becaus the w...</td>\n",
              "      <td>i put some water in a dish and let the water e...</td>\n",
              "      <td>correct</td>\n",
              "      <td>1</td>\n",
              "    </tr>\n",
              "    <tr>\n",
              "      <th>2</th>\n",
              "      <td>2</td>\n",
              "      <td>the water evapor and left salt crystal</td>\n",
              "      <td>the water wa evapor leav the salt</td>\n",
              "      <td>we evapor the salt from the water becaus the w...</td>\n",
              "      <td>i put some water in a dish and let the water e...</td>\n",
              "      <td>correct</td>\n",
              "      <td>1</td>\n",
              "    </tr>\n",
              "    <tr>\n",
              "      <th>3</th>\n",
              "      <td>3</td>\n",
              "      <td>i saw a pinkish grayish color that wa block th...</td>\n",
              "      <td>the water wa evapor leav the salt</td>\n",
              "      <td>we evapor the salt from the water becaus the w...</td>\n",
              "      <td>i put some water in a dish and let the water e...</td>\n",
              "      <td>incorrect</td>\n",
              "      <td>0</td>\n",
              "    </tr>\n",
              "    <tr>\n",
              "      <th>4</th>\n",
              "      <td>4</td>\n",
              "      <td>you have to slowli tip the vial for onli the w...</td>\n",
              "      <td>the water wa evapor leav the salt</td>\n",
              "      <td>we evapor the salt from the water becaus the w...</td>\n",
              "      <td>i put some water in a dish and let the water e...</td>\n",
              "      <td>incorrect</td>\n",
              "      <td>0</td>\n",
              "    </tr>\n",
              "    <tr>\n",
              "      <th>...</th>\n",
              "      <td>...</td>\n",
              "      <td>...</td>\n",
              "      <td>...</td>\n",
              "      <td>...</td>\n",
              "      <td>...</td>\n",
              "      <td>...</td>\n",
              "      <td>...</td>\n",
              "    </tr>\n",
              "    <tr>\n",
              "      <th>4920</th>\n",
              "      <td>4920</td>\n",
              "      <td>to see if the standard might be faster than th...</td>\n",
              "      <td>a standard is use for comparison to determin h...</td>\n",
              "      <td>so that you can see the result of an experi be...</td>\n",
              "      <td>you use a standard so you can tell what happen...</td>\n",
              "      <td>incorrect</td>\n",
              "      <td>0</td>\n",
              "    </tr>\n",
              "    <tr>\n",
              "      <th>4921</th>\n",
              "      <td>4921</td>\n",
              "      <td>becaus you can compar the result</td>\n",
              "      <td>a standard is use for comparison to determin h...</td>\n",
              "      <td>so that you can see the result of an experi be...</td>\n",
              "      <td>you use a standard so you can tell what happen...</td>\n",
              "      <td>incorrect</td>\n",
              "      <td>0</td>\n",
              "    </tr>\n",
              "    <tr>\n",
              "      <th>4922</th>\n",
              "      <td>4922</td>\n",
              "      <td>to help control the control experi</td>\n",
              "      <td>a standard is use for comparison to determin h...</td>\n",
              "      <td>so that you can see the result of an experi be...</td>\n",
              "      <td>you use a standard so you can tell what happen...</td>\n",
              "      <td>incorrect</td>\n",
              "      <td>0</td>\n",
              "    </tr>\n",
              "    <tr>\n",
              "      <th>4923</th>\n",
              "      <td>4923</td>\n",
              "      <td>to control ani experi</td>\n",
              "      <td>a standard is use for comparison to determin h...</td>\n",
              "      <td>so that you can see the result of an experi be...</td>\n",
              "      <td>you use a standard so you can tell what happen...</td>\n",
              "      <td>incorrect</td>\n",
              "      <td>0</td>\n",
              "    </tr>\n",
              "    <tr>\n",
              "      <th>4924</th>\n",
              "      <td>4924</td>\n",
              "      <td>becaus without a standard you will not know th...</td>\n",
              "      <td>a standard is use for comparison to determin h...</td>\n",
              "      <td>so that you can see the result of an experi be...</td>\n",
              "      <td>you use a standard so you can tell what happen...</td>\n",
              "      <td>incorrect</td>\n",
              "      <td>0</td>\n",
              "    </tr>\n",
              "  </tbody>\n",
              "</table>\n",
              "<p>4925 rows × 7 columns</p>\n",
              "</div>"
            ],
            "text/plain": [
              "      Unnamed: 0  ... label\n",
              "0              0  ...     0\n",
              "1              1  ...     1\n",
              "2              2  ...     1\n",
              "3              3  ...     0\n",
              "4              4  ...     0\n",
              "...          ...  ...   ...\n",
              "4920        4920  ...     0\n",
              "4921        4921  ...     0\n",
              "4922        4922  ...     0\n",
              "4923        4923  ...     0\n",
              "4924        4924  ...     0\n",
              "\n",
              "[4925 rows x 7 columns]"
            ]
          },
          "metadata": {
            "tags": []
          },
          "execution_count": 9
        }
      ]
    },
    {
      "cell_type": "code",
      "metadata": {
        "id": "DvO1KgXzhsd_",
        "colab": {
          "base_uri": "https://localhost:8080/",
          "height": 320
        },
        "outputId": "18914312-02c6-4c41-ba6d-dd0e5245119e"
      },
      "source": [
        "#dataset split of true and false instances\n",
        "df['accuracy'].value_counts(sort=True).head(10).plot.bar()"
      ],
      "execution_count": null,
      "outputs": [
        {
          "output_type": "execute_result",
          "data": {
            "text/plain": [
              "<matplotlib.axes._subplots.AxesSubplot at 0x7fd43f6433c8>"
            ]
          },
          "metadata": {
            "tags": []
          },
          "execution_count": 10
        },
        {
          "output_type": "display_data",
          "data": {
            "image/png": "[encoded data removed]",
            "text/plain": [
              "<Figure size 432x288 with 1 Axes>"
            ]
          },
          "metadata": {
            "tags": [],
            "needs_background": "light"
          }
        }
      ]
    },
    {
      "cell_type": "markdown",
      "metadata": {
        "id": "BMr1eUfZUDZp"
      },
      "source": [
        "### **Expanding the dataset**"
      ]
    },
    {
      "cell_type": "code",
      "metadata": {
        "id": "xO8Pm2-m7nmw"
      },
      "source": [
        "dup = []\n",
        "ans1 = []\n",
        "ans2 = []\n",
        "\n",
        "for i in range(len(df)) :\n",
        "  try:\n",
        "    if df.loc[i, \"label\"] == 0:\n",
        "      dup.append(0)\n",
        "      ans1.append(df.loc[i, \"studentAnswer\"])\n",
        "      ans2.append(df.loc[i, \"referenceAnswer\"])\n",
        "    if df.loc[i, \"label\"] == 1:\n",
        "      dup.append(1)\n",
        "      ans1.append(df.loc[i, \"studentAnswer\"])\n",
        "      ans2.append(df.loc[i, \"referenceAnswer\"])\n",
        "  except:\n",
        "    continue"
      ],
      "execution_count": null,
      "outputs": []
    },
    {
      "cell_type": "code",
      "metadata": {
        "id": "2dl2viHwwrf-"
      },
      "source": [
        "for i in range(len(df)) :\n",
        "  try:\n",
        "    if df.loc[i, \"label\"] == 0:\n",
        "      dup.append(0)\n",
        "      ans1.append(df.loc[i, \"studentAnswer\"])\n",
        "      ans2.append(df.loc[i, \"ref_1\"])\n",
        "    if df.loc[i, \"label\"] == 1:\n",
        "      dup.append(1)\n",
        "      ans1.append(df.loc[i, \"studentAnswer\"])\n",
        "      ans2.append(df.loc[i, \"ref_1\"])\n",
        "  except:\n",
        "    continue\n",
        "\n",
        "for i in range(len(df)) :\n",
        "  try:\n",
        "    if df.loc[i, \"label\"] == 0:\n",
        "      dup.append(0)\n",
        "      ans1.append(df.loc[i, \"studentAnswer\"])\n",
        "      ans2.append(df.loc[i, \"ref_2\"])\n",
        "    if df.loc[i, \"label\"] == 1:\n",
        "      dup.append(1)\n",
        "      ans1.append(df.loc[i, \"studentAnswer\"])\n",
        "      ans2.append(df.loc[i, \"ref_2\"])\n",
        "  except:\n",
        "    continue"
      ],
      "execution_count": null,
      "outputs": []
    },
    {
      "cell_type": "code",
      "metadata": {
        "id": "WJwLx2c270Ib",
        "colab": {
          "base_uri": "https://localhost:8080/"
        },
        "outputId": "4742d0b3-ddf6-4360-ff72-95adf33e68ff"
      },
      "source": [
        "len(ans1)"
      ],
      "execution_count": null,
      "outputs": [
        {
          "output_type": "execute_result",
          "data": {
            "text/plain": [
              "14775"
            ]
          },
          "metadata": {
            "tags": []
          },
          "execution_count": 13
        }
      ]
    },
    {
      "cell_type": "code",
      "metadata": {
        "id": "Ya90UhtRT0ar"
      },
      "source": [
        "#one-hot Encoding the target values for easy training\n",
        "\n",
        "one_hot = pd.get_dummies(dup)\n",
        "one_hot = np.array(one_hot)"
      ],
      "execution_count": null,
      "outputs": []
    },
    {
      "cell_type": "code",
      "metadata": {
        "id": "LbjGGKXOVRTL"
      },
      "source": [
        "is_duplicate = dup"
      ],
      "execution_count": null,
      "outputs": []
    },
    {
      "cell_type": "code",
      "metadata": {
        "id": "-KKO9UpIcKUN"
      },
      "source": [
        "question1 = ans1\n",
        "question2 = ans2\n",
        "is_duplicate = dup"
      ],
      "execution_count": null,
      "outputs": []
    },
    {
      "cell_type": "markdown",
      "metadata": {
        "id": "yVXhbT_fUz2v"
      },
      "source": [
        "**Glove Embeddings**"
      ]
    },
    {
      "cell_type": "code",
      "metadata": {
        "id": "gOwBx44MSdNh",
        "colab": {
          "base_uri": "https://localhost:8080/"
        },
        "outputId": "d7f6ab6e-b6c3-4763-83d2-6c49b98f617d"
      },
      "source": [
        "questions = question1 + question2\n",
        "tokenizer = Tokenizer(num_words=MAX_NB_WORDS)\n",
        "tokenizer.fit_on_texts(questions)\n",
        "question1_word_sequences = tokenizer.texts_to_sequences(question1)\n",
        "question2_word_sequences = tokenizer.texts_to_sequences(question2)\n",
        "word_index = tokenizer.word_index\n",
        "\n",
        "print(\"Words in index: %d\" % len(word_index))"
      ],
      "execution_count": null,
      "outputs": [
        {
          "output_type": "stream",
          "text": [
            "Words in index: 1680\n"
          ],
          "name": "stdout"
        }
      ]
    },
    {
      "cell_type": "code",
      "metadata": {
        "id": "kTdEpKOOS8C5",
        "colab": {
          "base_uri": "https://localhost:8080/"
        },
        "outputId": "8301c2c6-0cb3-40c8-b73c-0d15f40f9e11"
      },
      "source": [
        "nb_words = min(MAX_NB_WORDS, len(word_index))\n",
        "word_embedding_matrix = np.zeros((nb_words + 1, EMBEDDING_DIM))\n",
        "for word, i in word_index.items():\n",
        "    if i > MAX_NB_WORDS:\n",
        "        continue\n",
        "    embedding_vector = embeddings_index.get(word)\n",
        "    if embedding_vector is not None:\n",
        "        word_embedding_matrix[i] = embedding_vector\n",
        "\n",
        "print('Null word embeddings: %d' % np.sum(np.sum(word_embedding_matrix, axis=1) == 0))"
      ],
      "execution_count": null,
      "outputs": [
        {
          "output_type": "stream",
          "text": [
            "Null word embeddings: 111\n"
          ],
          "name": "stdout"
        }
      ]
    },
    {
      "cell_type": "markdown",
      "metadata": {
        "id": "bzUQkwmCjmfH"
      },
      "source": [
        "**Universal Sentence Embeddings**"
      ]
    },
    {
      "cell_type": "code",
      "metadata": {
        "id": "JV6uyRjMjlo4"
      },
      "source": [
        "# Embeddings are generated from another script we have written\n",
        "\n",
        "q1_emb = np.load('q11_emb.npy')\n",
        "q2_emb = np.load('q22_emb.npy')"
      ],
      "execution_count": null,
      "outputs": []
    },
    {
      "cell_type": "code",
      "metadata": {
        "id": "M4OJKKzuTjcj",
        "colab": {
          "base_uri": "https://localhost:8080/"
        },
        "outputId": "9fc54f73-d99d-40a2-fd28-adfcf0821a3a"
      },
      "source": [
        "#padding the sequences to get uniform length\n",
        "\n",
        "q1_data = pad_sequences(question1_word_sequences, maxlen=25)\n",
        "q2_data = pad_sequences(question2_word_sequences, maxlen=25)\n",
        "labels = np.array(is_duplicate)\n",
        "print('Shape of question1 data tensor:', q1_data.shape)\n",
        "print('Shape of question2 data tensor:', q2_data.shape)\n",
        "print('Shape of label tensor:', labels.shape)"
      ],
      "execution_count": null,
      "outputs": [
        {
          "output_type": "stream",
          "text": [
            "Shape of question1 data tensor: (14775, 25)\n",
            "Shape of question2 data tensor: (14775, 25)\n",
            "Shape of label tensor: (14775,)\n"
          ],
          "name": "stdout"
        }
      ]
    },
    {
      "cell_type": "code",
      "metadata": {
        "id": "pdwweFUpV7D1"
      },
      "source": [
        "#save the training data\n",
        "\n",
        "np.save(open(Q1_TRAINING_DATA_FILE, 'wb'), q1_data)\n",
        "np.save(open(Q2_TRAINING_DATA_FILE, 'wb'), q2_data)\n",
        "np.save(open(LABEL_TRAINING_DATA_FILE, 'wb'), labels)\n",
        "np.save(open(WORD_EMBEDDING_MATRIX_FILE, 'wb'), word_embedding_matrix)\n",
        "with open(NB_WORDS_DATA_FILE, 'w') as f:\n",
        "    json.dump({'nb_words': nb_words}, f)"
      ],
      "execution_count": null,
      "outputs": []
    },
    {
      "cell_type": "code",
      "metadata": {
        "id": "g-AQWQT-VwRQ"
      },
      "source": [
        "Q1_TRAINING_DATA_FILE = 'q1_train.npy'\n",
        "Q2_TRAINING_DATA_FILE = 'q2_train.npy'\n",
        "LABEL_TRAINING_DATA_FILE = 'label_train.npy'\n",
        "WORD_EMBEDDING_MATRIX_FILE = 'word_embedding_matrix.npy'\n",
        "NB_WORDS_DATA_FILE = 'nb_words.json'\n",
        "MODEL_WEIGHTS_FILE = 'final_weights.h5'\n",
        "MAX_SEQUENCE_LENGTH = 25\n",
        "WORD_EMBEDDING_DIM = 300\n",
        "SENT_EMBEDDING_DIM = 128\n",
        "VALIDATION_SPLIT = 0.1\n",
        "TEST_SPLIT = 0.1\n",
        "RNG_SEED = 13371447\n",
        "NB_EPOCHS = 11\n",
        "DROPOUT = 0.2\n",
        "BATCH_SIZE = 64"
      ],
      "execution_count": null,
      "outputs": []
    },
    {
      "cell_type": "code",
      "metadata": {
        "id": "hzx1cKbiWEO0"
      },
      "source": [
        "q1_data = np.load(open(Q1_TRAINING_DATA_FILE, 'rb'))\n",
        "q2_data = np.load(open(Q2_TRAINING_DATA_FILE, 'rb'))\n",
        "labels = np.load(open(LABEL_TRAINING_DATA_FILE, 'rb'))\n",
        "word_embedding_matrix = np.load(open(WORD_EMBEDDING_MATRIX_FILE, 'rb'))\n",
        "with open(NB_WORDS_DATA_FILE, 'r') as f:\n",
        "    nb_words = json.load(f)['nb_words']"
      ],
      "execution_count": null,
      "outputs": []
    },
    {
      "cell_type": "code",
      "metadata": {
        "id": "rmYoNA6fWIDL"
      },
      "source": [
        "X = np.stack((q1_data, q2_data), axis=1)\n",
        "#y = labels\n",
        "y = one_hot\n",
        "X_train, X_test, y_train, y_test = train_test_split(X, y, test_size=TEST_SPLIT, random_state=RNG_SEED)\n",
        "Q1_train = X_train[:,0]\n",
        "Q2_train = X_train[:,1]\n",
        "Q1_test = X_test[:,0]\n",
        "Q2_test = X_test[:,1]"
      ],
      "execution_count": null,
      "outputs": []
    },
    {
      "cell_type": "markdown",
      "metadata": {
        "id": "FIyb7rNflSzv"
      },
      "source": [
        "**Model**"
      ]
    },
    {
      "cell_type": "code",
      "metadata": {
        "id": "gb-KExoDWLRn"
      },
      "source": [
        "question1_a = Input(shape=(MAX_SEQUENCE_LENGTH,))\n",
        "question2_a = Input(shape=(MAX_SEQUENCE_LENGTH,))\n",
        "\n",
        "question1_b = Input(shape=(512,1))\n",
        "question2_b = Input(shape=(512,1))\n",
        "\n",
        "q1_a = Embedding(nb_words + 1, \n",
        "                 WORD_EMBEDDING_DIM, \n",
        "                 weights=[word_embedding_matrix], \n",
        "                 input_length=MAX_SEQUENCE_LENGTH, \n",
        "                 trainable=False)(question1_a)\n",
        "\n",
        "q2_a = Embedding(nb_words + 1, \n",
        "                 WORD_EMBEDDING_DIM, \n",
        "                 weights=[word_embedding_matrix], \n",
        "                 input_length=MAX_SEQUENCE_LENGTH, \n",
        "                 trainable=False)(question2_a)\n",
        "                 \n",
        "q1_a = Bidirectional(LSTM(SENT_EMBEDDING_DIM, return_sequences=True), merge_mode=\"sum\")(q1_a)\n",
        "\n",
        "q1_b = Bidirectional(LSTM(SENT_EMBEDDING_DIM, return_sequences=True), merge_mode=\"sum\")(q2_a)\n",
        "\n",
        "\n",
        "                 \n",
        "q1_b = Bidirectional(LSTM(SENT_EMBEDDING_DIM, return_sequences=True), merge_mode=\"sum\")(question1_b)\n",
        "\n",
        "q2_b = Bidirectional(LSTM(SENT_EMBEDDING_DIM, return_sequences=True), merge_mode=\"sum\")(question2_b)\n",
        "\n",
        "attention_a = dot([q1_a,q2_a], [1,1])\n",
        "attention_a = Flatten()(attention_a)\n",
        "attention_a = Dense((MAX_SEQUENCE_LENGTH*SENT_EMBEDDING_DIM))(attention_a)\n",
        "attention_a = Reshape((MAX_SEQUENCE_LENGTH, SENT_EMBEDDING_DIM))(attention_a)\n",
        "\n",
        "attention_b = dot([q1_b,q2_b], [1,1])\n",
        "attention_b = Flatten()(attention_b)\n",
        "attention_b = Dense((MAX_SEQUENCE_LENGTH*SENT_EMBEDDING_DIM))(attention_b)\n",
        "attention_b = Reshape((MAX_SEQUENCE_LENGTH, SENT_EMBEDDING_DIM))(attention_b)\n",
        "\n",
        "merged = add([attention_a,attention_b])\n",
        "merged = Flatten()(merged)\n",
        "merged = Dense(500, activation='relu')(merged)\n",
        "merged = Dropout(DROPOUT)(merged)\n",
        "merged = BatchNormalization()(merged)\n",
        "merged = Dense(300, activation='relu')(merged)\n",
        "merged = Dropout(DROPOUT)(merged)\n",
        "merged = BatchNormalization()(merged)\n",
        "merged = Dense(200, activation='relu')(merged)\n",
        "merged = Dropout(DROPOUT)(merged)\n",
        "merged = BatchNormalization()(merged)\n",
        "merged = Dense(200, activation='relu')(merged)\n",
        "merged = Dropout(DROPOUT)(merged)\n",
        "merged = BatchNormalization()(merged)\n",
        "\n",
        "is_duplicate = Dense(2, activation='sigmoid')(merged)\n",
        "\n",
        "model = Model(inputs=[question1,question2], outputs=is_duplicate)\n",
        "model.compile(loss='binary_crossentropy', optimizer='adam', metrics=['accuracy'])"
      ],
      "execution_count": null,
      "outputs": []
    },
    {
      "cell_type": "markdown",
      "metadata": {
        "id": "8rs0IrDllW78"
      },
      "source": [
        "**Training**"
      ]
    },
    {
      "cell_type": "code",
      "metadata": {
        "id": "ZdaPaxA9WZI4",
        "colab": {
          "base_uri": "https://localhost:8080/"
        },
        "outputId": "fe07c093-7bee-4f4c-a44d-51085687d3c6"
      },
      "source": [
        "print(\"Starting training at\", datetime.datetime.now())\n",
        "t0 = time.time()\n",
        "callbacks = [ModelCheckpoint(MODEL_WEIGHTS_FILE, monitor='val_accuracy', save_best_only=True)]\n",
        "history = model.fit([Q1_train, Q2_train],\n",
        "                    y_train,\n",
        "                    epochs=NB_EPOCHS,\n",
        "                    validation_split=VALIDATION_SPLIT,\n",
        "                    verbose=2,\n",
        "                    batch_size=BATCH_SIZE,\n",
        "                    callbacks=callbacks)\n",
        "t1 = time.time()\n",
        "print(\"Training ended at\", datetime.datetime.now())\n",
        "print(\"Minutes elapsed: %f\" % ((t1 - t0) / 60.))"
      ],
      "execution_count": null,
      "outputs": [
        {
          "output_type": "stream",
          "text": [
            "Starting training at 2021-01-12 04:22:47.637234\n",
            "Epoch 1/11\n",
            "187/187 - 12s - loss: 0.7310 - accuracy: 0.5817 - val_loss: 1.9557 - val_accuracy: 0.5812\n",
            "Epoch 2/11\n",
            "187/187 - 5s - loss: 0.6256 - accuracy: 0.6614 - val_loss: 0.6788 - val_accuracy: 0.6383\n",
            "Epoch 3/11\n",
            "187/187 - 5s - loss: 0.5347 - accuracy: 0.7374 - val_loss: 0.5182 - val_accuracy: 0.7511\n",
            "Epoch 4/11\n",
            "187/187 - 5s - loss: 0.4776 - accuracy: 0.7811 - val_loss: 0.5041 - val_accuracy: 0.7729\n",
            "Epoch 5/11\n",
            "187/187 - 5s - loss: 0.4122 - accuracy: 0.8150 - val_loss: 0.4251 - val_accuracy: 0.8075\n",
            "Epoch 6/11\n",
            "187/187 - 5s - loss: 0.3478 - accuracy: 0.8502 - val_loss: 0.4974 - val_accuracy: 0.7977\n",
            "Epoch 7/11\n",
            "187/187 - 5s - loss: 0.2893 - accuracy: 0.8787 - val_loss: 0.3313 - val_accuracy: 0.8504\n",
            "Epoch 8/11\n",
            "187/187 - 5s - loss: 0.2272 - accuracy: 0.9102 - val_loss: 0.2882 - val_accuracy: 0.8887\n",
            "Epoch 9/11\n",
            "187/187 - 5s - loss: 0.1657 - accuracy: 0.9361 - val_loss: 0.2118 - val_accuracy: 0.9211\n",
            "Epoch 10/11\n",
            "187/187 - 5s - loss: 0.1408 - accuracy: 0.9492 - val_loss: 0.7577 - val_accuracy: 0.6782\n",
            "Epoch 11/11\n",
            "187/187 - 5s - loss: 0.1209 - accuracy: 0.9557 - val_loss: 0.2756 - val_accuracy: 0.8970\n",
            "Training ended at 2021-01-12 04:24:55.082840\n",
            "Minutes elapsed: 2.124088\n"
          ],
          "name": "stdout"
        }
      ]
    },
    {
      "cell_type": "code",
      "metadata": {
        "id": "8YUahETP_7lD"
      },
      "source": [
        "model.save('weights2.h5')"
      ],
      "execution_count": null,
      "outputs": []
    },
    {
      "cell_type": "code",
      "metadata": {
        "id": "l7udHKDVRTeF"
      },
      "source": [
        "from tensorflow import keras\n",
        "model = keras.models.load_model('final_weights.h5')"
      ],
      "execution_count": null,
      "outputs": []
    },
    {
      "cell_type": "markdown",
      "metadata": {
        "id": "ZOC6KhtylbPi"
      },
      "source": [
        "**Manual Testing**"
      ]
    },
    {
      "cell_type": "code",
      "metadata": {
        "id": "QvP1Ez3OB6TU"
      },
      "source": [
        "q11 = 'Salt is left out when the water is evaporated under the sun. Evaporation is the process'\n",
        "q22 = 'Keep the water the sun. Process is evaporation.'"
      ],
      "execution_count": null,
      "outputs": []
    },
    {
      "cell_type": "code",
      "metadata": {
        "colab": {
          "base_uri": "https://localhost:8080/"
        },
        "id": "xmpkqmHvevkB",
        "outputId": "45959524-4318-494a-b40e-bc53ce240e4f"
      },
      "source": [
        "t0 = time.time()\n",
        "q11 = text_lowercase(q11)\n",
        "q11 = remove_punctuation(q11)\n",
        "q11 = remove_whitespace(q11)\n",
        "q11 = cleanhtml(q11)\n",
        "q11 = stemSentence(q11)\n",
        "\n",
        "q22 = text_lowercase(q22)\n",
        "q22 = remove_punctuation(q22)\n",
        "q22 = remove_whitespace(q22)\n",
        "q22 = cleanhtml(q22)\n",
        "q22 = stemSentence(q22)\n",
        "\n",
        "q11_seq = tokenizer.texts_to_sequences([q11])\n",
        "q22_seq = tokenizer.texts_to_sequences([q22])\n",
        "\n",
        "q_11 = model3.encode([q11])\n",
        "q_22 = model3.encode([q22])\n",
        "\n",
        "q1_d = pad_sequences(q11_seq, maxlen=MAX_SEQUENCE_LENGTH)\n",
        "q2_d = pad_sequences(q22_seq, maxlen=MAX_SEQUENCE_LENGTH)\n",
        "\n",
        "confidence_score = model.predict([q1_d,q2_d])\n",
        "score = util.pytorch_cos_sim(q_11, q_22)\n",
        "t1 = time.time()\n",
        "print(\"Time elapsed: %f\" % ((t1 - t0)))"
      ],
      "execution_count": null,
      "outputs": [
        {
          "output_type": "stream",
          "text": [
            "Time elapsed: 1.707930\n"
          ],
          "name": "stdout"
        }
      ]
    },
    {
      "cell_type": "code",
      "metadata": {
        "id": "P6msU0HCA5gk",
        "colab": {
          "base_uri": "https://localhost:8080/"
        },
        "outputId": "1b1f2c7a-8c6a-4a37-de6e-d7e0c63fd54b"
      },
      "source": [
        "model.predict([q1_d,q2_d])"
      ],
      "execution_count": null,
      "outputs": [
        {
          "output_type": "execute_result",
          "data": {
            "text/plain": [
              "array([[0.17229906, 0.82550544]], dtype=float32)"
            ]
          },
          "metadata": {
            "tags": []
          },
          "execution_count": 48
        }
      ]
    },
    {
      "cell_type": "code",
      "metadata": {
        "colab": {
          "base_uri": "https://localhost:8080/"
        },
        "id": "xP3b6V0LiAxb",
        "outputId": "cf797126-2833-428a-d947-7e299482c634"
      },
      "source": [
        "if confidence_score[0][1] > confidence_score[0][0] :\n",
        "    if score > 0.6 :\n",
        "        print(\"Answer Correct\")\n",
        "    else :\n",
        "        print(\"Wrong Answer\")\n",
        "else :\n",
        "    if score < 0.6 :\n",
        "        print(\"Wrong answer\")\n",
        "    else : \n",
        "        print(\"Answer Correct\")"
      ],
      "execution_count": null,
      "outputs": [
        {
          "output_type": "stream",
          "text": [
            "Answer Correct\n"
          ],
          "name": "stdout"
        }
      ]
    },
    {
      "cell_type": "markdown",
      "metadata": {
        "id": "YSMtNvhBlhLR"
      },
      "source": [
        "**Model Accuracy, Confusion matrix**"
      ]
    },
    {
      "cell_type": "code",
      "metadata": {
        "id": "bJn87HOC5Ngi"
      },
      "source": [
        "y_predict = model.predict([Q1_test,Q2_test])"
      ],
      "execution_count": null,
      "outputs": []
    },
    {
      "cell_type": "code",
      "metadata": {
        "id": "T6U1FaLH61EC"
      },
      "source": [
        "y_pred = []\n",
        "\n",
        "for i in range(0,1478):\n",
        "  if y_predict[i][0]>y_predict[i][1]:\n",
        "    y_pred.append([1,0])\n",
        "  else:\n",
        "    y_pred.append([0,1])"
      ],
      "execution_count": null,
      "outputs": []
    },
    {
      "cell_type": "code",
      "metadata": {
        "colab": {
          "base_uri": "https://localhost:8080/"
        },
        "id": "S0FehjnV6wL2",
        "outputId": "ab318e59-0907-400a-ead0-182a01fc73e6"
      },
      "source": [
        "y_pred"
      ],
      "execution_count": null,
      "outputs": [
        {
          "output_type": "execute_result",
          "data": {
            "text/plain": [
              "[[1, 0],\n",
              " [1, 0],\n",
              " [0, 1],\n",
              " [1, 0],\n",
              " [1, 0],\n",
              " [1, 0],\n",
              " [1, 0],\n",
              " [0, 1],\n",
              " [1, 0],\n",
              " [1, 0],\n",
              " [1, 0],\n",
              " [0, 1],\n",
              " [1, 0],\n",
              " [1, 0],\n",
              " [0, 1],\n",
              " [1, 0],\n",
              " [1, 0],\n",
              " [1, 0],\n",
              " [1, 0],\n",
              " [1, 0],\n",
              " [0, 1],\n",
              " [1, 0],\n",
              " [0, 1],\n",
              " [0, 1],\n",
              " [0, 1],\n",
              " [1, 0],\n",
              " [1, 0],\n",
              " [1, 0],\n",
              " [1, 0],\n",
              " [0, 1],\n",
              " [1, 0],\n",
              " [1, 0],\n",
              " [0, 1],\n",
              " [1, 0],\n",
              " [0, 1],\n",
              " [1, 0],\n",
              " [0, 1],\n",
              " [1, 0],\n",
              " [1, 0],\n",
              " [0, 1],\n",
              " [1, 0],\n",
              " [1, 0],\n",
              " [1, 0],\n",
              " [0, 1],\n",
              " [1, 0],\n",
              " [1, 0],\n",
              " [1, 0],\n",
              " [1, 0],\n",
              " [0, 1],\n",
              " [1, 0],\n",
              " [1, 0],\n",
              " [1, 0],\n",
              " [1, 0],\n",
              " [1, 0],\n",
              " [1, 0],\n",
              " [1, 0],\n",
              " [1, 0],\n",
              " [0, 1],\n",
              " [0, 1],\n",
              " [1, 0],\n",
              " [1, 0],\n",
              " [1, 0],\n",
              " [1, 0],\n",
              " [0, 1],\n",
              " [1, 0],\n",
              " [1, 0],\n",
              " [1, 0],\n",
              " [1, 0],\n",
              " [0, 1],\n",
              " [0, 1],\n",
              " [1, 0],\n",
              " [0, 1],\n",
              " [1, 0],\n",
              " [1, 0],\n",
              " [0, 1],\n",
              " [1, 0],\n",
              " [1, 0],\n",
              " [1, 0],\n",
              " [1, 0],\n",
              " [0, 1],\n",
              " [1, 0],\n",
              " [0, 1],\n",
              " [0, 1],\n",
              " [0, 1],\n",
              " [0, 1],\n",
              " [1, 0],\n",
              " [1, 0],\n",
              " [1, 0],\n",
              " [0, 1],\n",
              " [1, 0],\n",
              " [1, 0],\n",
              " [1, 0],\n",
              " [1, 0],\n",
              " [1, 0],\n",
              " [1, 0],\n",
              " [1, 0],\n",
              " [1, 0],\n",
              " [1, 0],\n",
              " [1, 0],\n",
              " [0, 1],\n",
              " [1, 0],\n",
              " [0, 1],\n",
              " [1, 0],\n",
              " [0, 1],\n",
              " [0, 1],\n",
              " [0, 1],\n",
              " [1, 0],\n",
              " [0, 1],\n",
              " [0, 1],\n",
              " [1, 0],\n",
              " [1, 0],\n",
              " [0, 1],\n",
              " [0, 1],\n",
              " [0, 1],\n",
              " [0, 1],\n",
              " [0, 1],\n",
              " [0, 1],\n",
              " [1, 0],\n",
              " [1, 0],\n",
              " [1, 0],\n",
              " [1, 0],\n",
              " [0, 1],\n",
              " [1, 0],\n",
              " [1, 0],\n",
              " [0, 1],\n",
              " [1, 0],\n",
              " [1, 0],\n",
              " [0, 1],\n",
              " [1, 0],\n",
              " [1, 0],\n",
              " [1, 0],\n",
              " [0, 1],\n",
              " [1, 0],\n",
              " [1, 0],\n",
              " [0, 1],\n",
              " [1, 0],\n",
              " [0, 1],\n",
              " [1, 0],\n",
              " [1, 0],\n",
              " [1, 0],\n",
              " [1, 0],\n",
              " [1, 0],\n",
              " [1, 0],\n",
              " [1, 0],\n",
              " [1, 0],\n",
              " [1, 0],\n",
              " [0, 1],\n",
              " [1, 0],\n",
              " [1, 0],\n",
              " [0, 1],\n",
              " [1, 0],\n",
              " [1, 0],\n",
              " [1, 0],\n",
              " [0, 1],\n",
              " [0, 1],\n",
              " [0, 1],\n",
              " [0, 1],\n",
              " [1, 0],\n",
              " [1, 0],\n",
              " [0, 1],\n",
              " [0, 1],\n",
              " [1, 0],\n",
              " [1, 0],\n",
              " [1, 0],\n",
              " [1, 0],\n",
              " [0, 1],\n",
              " [0, 1],\n",
              " [0, 1],\n",
              " [0, 1],\n",
              " [1, 0],\n",
              " [0, 1],\n",
              " [1, 0],\n",
              " [1, 0],\n",
              " [0, 1],\n",
              " [1, 0],\n",
              " [0, 1],\n",
              " [0, 1],\n",
              " [1, 0],\n",
              " [1, 0],\n",
              " [1, 0],\n",
              " [1, 0],\n",
              " [1, 0],\n",
              " [1, 0],\n",
              " [1, 0],\n",
              " [1, 0],\n",
              " [1, 0],\n",
              " [0, 1],\n",
              " [1, 0],\n",
              " [1, 0],\n",
              " [0, 1],\n",
              " [1, 0],\n",
              " [1, 0],\n",
              " [0, 1],\n",
              " [0, 1],\n",
              " [1, 0],\n",
              " [1, 0],\n",
              " [0, 1],\n",
              " [1, 0],\n",
              " [0, 1],\n",
              " [1, 0],\n",
              " [0, 1],\n",
              " [0, 1],\n",
              " [0, 1],\n",
              " [0, 1],\n",
              " [1, 0],\n",
              " [0, 1],\n",
              " [1, 0],\n",
              " [0, 1],\n",
              " [0, 1],\n",
              " [0, 1],\n",
              " [1, 0],\n",
              " [1, 0],\n",
              " [1, 0],\n",
              " [1, 0],\n",
              " [0, 1],\n",
              " [1, 0],\n",
              " [0, 1],\n",
              " [1, 0],\n",
              " [1, 0],\n",
              " [1, 0],\n",
              " [1, 0],\n",
              " [1, 0],\n",
              " [1, 0],\n",
              " [0, 1],\n",
              " [1, 0],\n",
              " [0, 1],\n",
              " [0, 1],\n",
              " [0, 1],\n",
              " [0, 1],\n",
              " [1, 0],\n",
              " [0, 1],\n",
              " [1, 0],\n",
              " [0, 1],\n",
              " [1, 0],\n",
              " [1, 0],\n",
              " [1, 0],\n",
              " [1, 0],\n",
              " [0, 1],\n",
              " [0, 1],\n",
              " [0, 1],\n",
              " [1, 0],\n",
              " [1, 0],\n",
              " [1, 0],\n",
              " [1, 0],\n",
              " [1, 0],\n",
              " [0, 1],\n",
              " [0, 1],\n",
              " [0, 1],\n",
              " [0, 1],\n",
              " [1, 0],\n",
              " [0, 1],\n",
              " [0, 1],\n",
              " [0, 1],\n",
              " [1, 0],\n",
              " [0, 1],\n",
              " [1, 0],\n",
              " [0, 1],\n",
              " [0, 1],\n",
              " [0, 1],\n",
              " [1, 0],\n",
              " [1, 0],\n",
              " [1, 0],\n",
              " [0, 1],\n",
              " [1, 0],\n",
              " [1, 0],\n",
              " [1, 0],\n",
              " [1, 0],\n",
              " [0, 1],\n",
              " [1, 0],\n",
              " [0, 1],\n",
              " [0, 1],\n",
              " [0, 1],\n",
              " [0, 1],\n",
              " [0, 1],\n",
              " [0, 1],\n",
              " [1, 0],\n",
              " [0, 1],\n",
              " [0, 1],\n",
              " [1, 0],\n",
              " [1, 0],\n",
              " [1, 0],\n",
              " [0, 1],\n",
              " [1, 0],\n",
              " [1, 0],\n",
              " [0, 1],\n",
              " [1, 0],\n",
              " [1, 0],\n",
              " [1, 0],\n",
              " [0, 1],\n",
              " [0, 1],\n",
              " [1, 0],\n",
              " [0, 1],\n",
              " [1, 0],\n",
              " [1, 0],\n",
              " [0, 1],\n",
              " [0, 1],\n",
              " [1, 0],\n",
              " [1, 0],\n",
              " [1, 0],\n",
              " [1, 0],\n",
              " [1, 0],\n",
              " [0, 1],\n",
              " [1, 0],\n",
              " [1, 0],\n",
              " [1, 0],\n",
              " [1, 0],\n",
              " [0, 1],\n",
              " [1, 0],\n",
              " [1, 0],\n",
              " [1, 0],\n",
              " [1, 0],\n",
              " [0, 1],\n",
              " [1, 0],\n",
              " [1, 0],\n",
              " [0, 1],\n",
              " [0, 1],\n",
              " [0, 1],\n",
              " [1, 0],\n",
              " [0, 1],\n",
              " [0, 1],\n",
              " [1, 0],\n",
              " [1, 0],\n",
              " [1, 0],\n",
              " [0, 1],\n",
              " [1, 0],\n",
              " [1, 0],\n",
              " [1, 0],\n",
              " [0, 1],\n",
              " [1, 0],\n",
              " [0, 1],\n",
              " [1, 0],\n",
              " [1, 0],\n",
              " [0, 1],\n",
              " [1, 0],\n",
              " [0, 1],\n",
              " [1, 0],\n",
              " [1, 0],\n",
              " [0, 1],\n",
              " [0, 1],\n",
              " [0, 1],\n",
              " [0, 1],\n",
              " [1, 0],\n",
              " [0, 1],\n",
              " [1, 0],\n",
              " [0, 1],\n",
              " [0, 1],\n",
              " [0, 1],\n",
              " [1, 0],\n",
              " [1, 0],\n",
              " [0, 1],\n",
              " [1, 0],\n",
              " [0, 1],\n",
              " [1, 0],\n",
              " [1, 0],\n",
              " [1, 0],\n",
              " [1, 0],\n",
              " [1, 0],\n",
              " [0, 1],\n",
              " [0, 1],\n",
              " [1, 0],\n",
              " [0, 1],\n",
              " [1, 0],\n",
              " [1, 0],\n",
              " [1, 0],\n",
              " [1, 0],\n",
              " [1, 0],\n",
              " [1, 0],\n",
              " [0, 1],\n",
              " [0, 1],\n",
              " [1, 0],\n",
              " [1, 0],\n",
              " [1, 0],\n",
              " [1, 0],\n",
              " [0, 1],\n",
              " [0, 1],\n",
              " [0, 1],\n",
              " [0, 1],\n",
              " [0, 1],\n",
              " [1, 0],\n",
              " [1, 0],\n",
              " [1, 0],\n",
              " [1, 0],\n",
              " [1, 0],\n",
              " [0, 1],\n",
              " [0, 1],\n",
              " [1, 0],\n",
              " [1, 0],\n",
              " [1, 0],\n",
              " [0, 1],\n",
              " [0, 1],\n",
              " [1, 0],\n",
              " [1, 0],\n",
              " [0, 1],\n",
              " [0, 1],\n",
              " [0, 1],\n",
              " [1, 0],\n",
              " [0, 1],\n",
              " [1, 0],\n",
              " [0, 1],\n",
              " [1, 0],\n",
              " [1, 0],\n",
              " [1, 0],\n",
              " [0, 1],\n",
              " [1, 0],\n",
              " [1, 0],\n",
              " [1, 0],\n",
              " [0, 1],\n",
              " [0, 1],\n",
              " [1, 0],\n",
              " [1, 0],\n",
              " [1, 0],\n",
              " [0, 1],\n",
              " [1, 0],\n",
              " [0, 1],\n",
              " [1, 0],\n",
              " [0, 1],\n",
              " [1, 0],\n",
              " [0, 1],\n",
              " [0, 1],\n",
              " [0, 1],\n",
              " [1, 0],\n",
              " [0, 1],\n",
              " [1, 0],\n",
              " [0, 1],\n",
              " [1, 0],\n",
              " [0, 1],\n",
              " [0, 1],\n",
              " [0, 1],\n",
              " [0, 1],\n",
              " [1, 0],\n",
              " [0, 1],\n",
              " [1, 0],\n",
              " [0, 1],\n",
              " [1, 0],\n",
              " [1, 0],\n",
              " [1, 0],\n",
              " [1, 0],\n",
              " [1, 0],\n",
              " [1, 0],\n",
              " [1, 0],\n",
              " [1, 0],\n",
              " [1, 0],\n",
              " [1, 0],\n",
              " [1, 0],\n",
              " [0, 1],\n",
              " [1, 0],\n",
              " [1, 0],\n",
              " [1, 0],\n",
              " [1, 0],\n",
              " [0, 1],\n",
              " [0, 1],\n",
              " [0, 1],\n",
              " [0, 1],\n",
              " [0, 1],\n",
              " [0, 1],\n",
              " [1, 0],\n",
              " [0, 1],\n",
              " [0, 1],\n",
              " [0, 1],\n",
              " [0, 1],\n",
              " [0, 1],\n",
              " [1, 0],\n",
              " [0, 1],\n",
              " [1, 0],\n",
              " [1, 0],\n",
              " [1, 0],\n",
              " [1, 0],\n",
              " [0, 1],\n",
              " [0, 1],\n",
              " [0, 1],\n",
              " [1, 0],\n",
              " [0, 1],\n",
              " [0, 1],\n",
              " [1, 0],\n",
              " [1, 0],\n",
              " [1, 0],\n",
              " [0, 1],\n",
              " [0, 1],\n",
              " [1, 0],\n",
              " [0, 1],\n",
              " [1, 0],\n",
              " [1, 0],\n",
              " [1, 0],\n",
              " [1, 0],\n",
              " [0, 1],\n",
              " [1, 0],\n",
              " [1, 0],\n",
              " [0, 1],\n",
              " [0, 1],\n",
              " [1, 0],\n",
              " [0, 1],\n",
              " [0, 1],\n",
              " [1, 0],\n",
              " [0, 1],\n",
              " [0, 1],\n",
              " [0, 1],\n",
              " [0, 1],\n",
              " [0, 1],\n",
              " [1, 0],\n",
              " [0, 1],\n",
              " [0, 1],\n",
              " [1, 0],\n",
              " [0, 1],\n",
              " [1, 0],\n",
              " [1, 0],\n",
              " [0, 1],\n",
              " [0, 1],\n",
              " [1, 0],\n",
              " [1, 0],\n",
              " [0, 1],\n",
              " [1, 0],\n",
              " [1, 0],\n",
              " [1, 0],\n",
              " [1, 0],\n",
              " [0, 1],\n",
              " [0, 1],\n",
              " [1, 0],\n",
              " [0, 1],\n",
              " [1, 0],\n",
              " [0, 1],\n",
              " [0, 1],\n",
              " [0, 1],\n",
              " [1, 0],\n",
              " [1, 0],\n",
              " [0, 1],\n",
              " [1, 0],\n",
              " [0, 1],\n",
              " [1, 0],\n",
              " [0, 1],\n",
              " [1, 0],\n",
              " [1, 0],\n",
              " [0, 1],\n",
              " [1, 0],\n",
              " [0, 1],\n",
              " [1, 0],\n",
              " [1, 0],\n",
              " [1, 0],\n",
              " [1, 0],\n",
              " [1, 0],\n",
              " [1, 0],\n",
              " [0, 1],\n",
              " [1, 0],\n",
              " [0, 1],\n",
              " [0, 1],\n",
              " [0, 1],\n",
              " [0, 1],\n",
              " [1, 0],\n",
              " [1, 0],\n",
              " [0, 1],\n",
              " [1, 0],\n",
              " [0, 1],\n",
              " [1, 0],\n",
              " [1, 0],\n",
              " [1, 0],\n",
              " [0, 1],\n",
              " [1, 0],\n",
              " [1, 0],\n",
              " [0, 1],\n",
              " [0, 1],\n",
              " [1, 0],\n",
              " [1, 0],\n",
              " [0, 1],\n",
              " [1, 0],\n",
              " [0, 1],\n",
              " [1, 0],\n",
              " [0, 1],\n",
              " [0, 1],\n",
              " [0, 1],\n",
              " [1, 0],\n",
              " [0, 1],\n",
              " [1, 0],\n",
              " [1, 0],\n",
              " [0, 1],\n",
              " [0, 1],\n",
              " [0, 1],\n",
              " [1, 0],\n",
              " [0, 1],\n",
              " [0, 1],\n",
              " [1, 0],\n",
              " [1, 0],\n",
              " [0, 1],\n",
              " [0, 1],\n",
              " [1, 0],\n",
              " [0, 1],\n",
              " [0, 1],\n",
              " [1, 0],\n",
              " [1, 0],\n",
              " [0, 1],\n",
              " [0, 1],\n",
              " [1, 0],\n",
              " [1, 0],\n",
              " [1, 0],\n",
              " [0, 1],\n",
              " [1, 0],\n",
              " [1, 0],\n",
              " [1, 0],\n",
              " [0, 1],\n",
              " [1, 0],\n",
              " [1, 0],\n",
              " [0, 1],\n",
              " [1, 0],\n",
              " [0, 1],\n",
              " [0, 1],\n",
              " [1, 0],\n",
              " [1, 0],\n",
              " [1, 0],\n",
              " [0, 1],\n",
              " [1, 0],\n",
              " [0, 1],\n",
              " [0, 1],\n",
              " [1, 0],\n",
              " [1, 0],\n",
              " [1, 0],\n",
              " [0, 1],\n",
              " [1, 0],\n",
              " [0, 1],\n",
              " [1, 0],\n",
              " [0, 1],\n",
              " [1, 0],\n",
              " [1, 0],\n",
              " [0, 1],\n",
              " [0, 1],\n",
              " [0, 1],\n",
              " [1, 0],\n",
              " [1, 0],\n",
              " [0, 1],\n",
              " [0, 1],\n",
              " [1, 0],\n",
              " [0, 1],\n",
              " [1, 0],\n",
              " [1, 0],\n",
              " [1, 0],\n",
              " [0, 1],\n",
              " [1, 0],\n",
              " [0, 1],\n",
              " [1, 0],\n",
              " [1, 0],\n",
              " [1, 0],\n",
              " [1, 0],\n",
              " [1, 0],\n",
              " [0, 1],\n",
              " [1, 0],\n",
              " [1, 0],\n",
              " [1, 0],\n",
              " [1, 0],\n",
              " [0, 1],\n",
              " [1, 0],\n",
              " [1, 0],\n",
              " [1, 0],\n",
              " [1, 0],\n",
              " [1, 0],\n",
              " [0, 1],\n",
              " [0, 1],\n",
              " [1, 0],\n",
              " [0, 1],\n",
              " [1, 0],\n",
              " [1, 0],\n",
              " [1, 0],\n",
              " [0, 1],\n",
              " [0, 1],\n",
              " [0, 1],\n",
              " [1, 0],\n",
              " [1, 0],\n",
              " [0, 1],\n",
              " [0, 1],\n",
              " [1, 0],\n",
              " [1, 0],\n",
              " [1, 0],\n",
              " [1, 0],\n",
              " [1, 0],\n",
              " [0, 1],\n",
              " [0, 1],\n",
              " [1, 0],\n",
              " [1, 0],\n",
              " [0, 1],\n",
              " [1, 0],\n",
              " [1, 0],\n",
              " [0, 1],\n",
              " [1, 0],\n",
              " [1, 0],\n",
              " [1, 0],\n",
              " [0, 1],\n",
              " [1, 0],\n",
              " [0, 1],\n",
              " [0, 1],\n",
              " [0, 1],\n",
              " [0, 1],\n",
              " [1, 0],\n",
              " [1, 0],\n",
              " [1, 0],\n",
              " [0, 1],\n",
              " [0, 1],\n",
              " [0, 1],\n",
              " [0, 1],\n",
              " [1, 0],\n",
              " [0, 1],\n",
              " [0, 1],\n",
              " [1, 0],\n",
              " [0, 1],\n",
              " [0, 1],\n",
              " [0, 1],\n",
              " [0, 1],\n",
              " [1, 0],\n",
              " [1, 0],\n",
              " [0, 1],\n",
              " [1, 0],\n",
              " [0, 1],\n",
              " [1, 0],\n",
              " [0, 1],\n",
              " [0, 1],\n",
              " [0, 1],\n",
              " [1, 0],\n",
              " [0, 1],\n",
              " [0, 1],\n",
              " [0, 1],\n",
              " [0, 1],\n",
              " [0, 1],\n",
              " [0, 1],\n",
              " [0, 1],\n",
              " [1, 0],\n",
              " [0, 1],\n",
              " [0, 1],\n",
              " [1, 0],\n",
              " [1, 0],\n",
              " [0, 1],\n",
              " [1, 0],\n",
              " [0, 1],\n",
              " [1, 0],\n",
              " [1, 0],\n",
              " [1, 0],\n",
              " [0, 1],\n",
              " [0, 1],\n",
              " [1, 0],\n",
              " [0, 1],\n",
              " [0, 1],\n",
              " [1, 0],\n",
              " [0, 1],\n",
              " [1, 0],\n",
              " [0, 1],\n",
              " [0, 1],\n",
              " [0, 1],\n",
              " [1, 0],\n",
              " [0, 1],\n",
              " [1, 0],\n",
              " [0, 1],\n",
              " [0, 1],\n",
              " [1, 0],\n",
              " [1, 0],\n",
              " [1, 0],\n",
              " [1, 0],\n",
              " [0, 1],\n",
              " [0, 1],\n",
              " [1, 0],\n",
              " [0, 1],\n",
              " [0, 1],\n",
              " [1, 0],\n",
              " [1, 0],\n",
              " [1, 0],\n",
              " [1, 0],\n",
              " [1, 0],\n",
              " [0, 1],\n",
              " [0, 1],\n",
              " [1, 0],\n",
              " [1, 0],\n",
              " [0, 1],\n",
              " [1, 0],\n",
              " [1, 0],\n",
              " [1, 0],\n",
              " [1, 0],\n",
              " [1, 0],\n",
              " [0, 1],\n",
              " [0, 1],\n",
              " [1, 0],\n",
              " [1, 0],\n",
              " [0, 1],\n",
              " [1, 0],\n",
              " [0, 1],\n",
              " [1, 0],\n",
              " [1, 0],\n",
              " [1, 0],\n",
              " [1, 0],\n",
              " [1, 0],\n",
              " [0, 1],\n",
              " [0, 1],\n",
              " [1, 0],\n",
              " [0, 1],\n",
              " [1, 0],\n",
              " [1, 0],\n",
              " [1, 0],\n",
              " [1, 0],\n",
              " [1, 0],\n",
              " [1, 0],\n",
              " [0, 1],\n",
              " [0, 1],\n",
              " [0, 1],\n",
              " [0, 1],\n",
              " [0, 1],\n",
              " [1, 0],\n",
              " [0, 1],\n",
              " [0, 1],\n",
              " [0, 1],\n",
              " [1, 0],\n",
              " [0, 1],\n",
              " [1, 0],\n",
              " [1, 0],\n",
              " [1, 0],\n",
              " [0, 1],\n",
              " [1, 0],\n",
              " [1, 0],\n",
              " [0, 1],\n",
              " [0, 1],\n",
              " [1, 0],\n",
              " [1, 0],\n",
              " [0, 1],\n",
              " [1, 0],\n",
              " [0, 1],\n",
              " [1, 0],\n",
              " [0, 1],\n",
              " [1, 0],\n",
              " [0, 1],\n",
              " [0, 1],\n",
              " [0, 1],\n",
              " [0, 1],\n",
              " [1, 0],\n",
              " [1, 0],\n",
              " [1, 0],\n",
              " [1, 0],\n",
              " [0, 1],\n",
              " [1, 0],\n",
              " [0, 1],\n",
              " [1, 0],\n",
              " [0, 1],\n",
              " [1, 0],\n",
              " [1, 0],\n",
              " [0, 1],\n",
              " [1, 0],\n",
              " [0, 1],\n",
              " [1, 0],\n",
              " [1, 0],\n",
              " [0, 1],\n",
              " [0, 1],\n",
              " [0, 1],\n",
              " [1, 0],\n",
              " [0, 1],\n",
              " [0, 1],\n",
              " [0, 1],\n",
              " [1, 0],\n",
              " [0, 1],\n",
              " [1, 0],\n",
              " [1, 0],\n",
              " [1, 0],\n",
              " [0, 1],\n",
              " [0, 1],\n",
              " [0, 1],\n",
              " [1, 0],\n",
              " [1, 0],\n",
              " [1, 0],\n",
              " [1, 0],\n",
              " [1, 0],\n",
              " [1, 0],\n",
              " [0, 1],\n",
              " [1, 0],\n",
              " [0, 1],\n",
              " [1, 0],\n",
              " [1, 0],\n",
              " [1, 0],\n",
              " [1, 0],\n",
              " [0, 1],\n",
              " [1, 0],\n",
              " [1, 0],\n",
              " [0, 1],\n",
              " [0, 1],\n",
              " [0, 1],\n",
              " [0, 1],\n",
              " [1, 0],\n",
              " [1, 0],\n",
              " [0, 1],\n",
              " [1, 0],\n",
              " [1, 0],\n",
              " [0, 1],\n",
              " [0, 1],\n",
              " [1, 0],\n",
              " [1, 0],\n",
              " [0, 1],\n",
              " [0, 1],\n",
              " [0, 1],\n",
              " [1, 0],\n",
              " [1, 0],\n",
              " [0, 1],\n",
              " [0, 1],\n",
              " [1, 0],\n",
              " [0, 1],\n",
              " [0, 1],\n",
              " [0, 1],\n",
              " [0, 1],\n",
              " [0, 1],\n",
              " [0, 1],\n",
              " [0, 1],\n",
              " [0, 1],\n",
              " [1, 0],\n",
              " [1, 0],\n",
              " [1, 0],\n",
              " [1, 0],\n",
              " [1, 0],\n",
              " [1, 0],\n",
              " [1, 0],\n",
              " [1, 0],\n",
              " [0, 1],\n",
              " [1, 0],\n",
              " [0, 1],\n",
              " [1, 0],\n",
              " [1, 0],\n",
              " [0, 1],\n",
              " [0, 1],\n",
              " [0, 1],\n",
              " [1, 0],\n",
              " [1, 0],\n",
              " [0, 1],\n",
              " [1, 0],\n",
              " [1, 0],\n",
              " [1, 0],\n",
              " [0, 1],\n",
              " [0, 1],\n",
              " [0, 1],\n",
              " [0, 1],\n",
              " [1, 0],\n",
              " [0, 1],\n",
              " [1, 0],\n",
              " [1, 0],\n",
              " [0, 1],\n",
              " [1, 0],\n",
              " [1, 0],\n",
              " [0, 1],\n",
              " [0, 1],\n",
              " [0, 1],\n",
              " [1, 0],\n",
              " [0, 1],\n",
              " [1, 0],\n",
              " [1, 0],\n",
              " [1, 0],\n",
              " [0, 1],\n",
              " [0, 1],\n",
              " [1, 0],\n",
              " [1, 0],\n",
              " [0, 1],\n",
              " [1, 0],\n",
              " [1, 0],\n",
              " [0, 1],\n",
              " [1, 0],\n",
              " [1, 0],\n",
              " [1, 0],\n",
              " [0, 1],\n",
              " [1, 0],\n",
              " [1, 0],\n",
              " [0, 1],\n",
              " [1, 0],\n",
              " [1, 0],\n",
              " [1, 0],\n",
              " [1, 0],\n",
              " [1, 0],\n",
              " [1, 0],\n",
              " [1, 0],\n",
              " [1, 0],\n",
              " [1, 0],\n",
              " [1, 0],\n",
              " [0, 1],\n",
              " [1, 0],\n",
              " [1, 0],\n",
              " [1, 0],\n",
              " [1, 0],\n",
              " [1, 0],\n",
              " [1, 0],\n",
              " [1, 0],\n",
              " [0, 1],\n",
              " [1, 0],\n",
              " [0, 1],\n",
              " [0, 1],\n",
              " [1, 0],\n",
              " [0, 1],\n",
              " [0, 1],\n",
              " [0, 1],\n",
              " [1, 0],\n",
              " [1, 0],\n",
              " [0, 1],\n",
              " [0, 1],\n",
              " [1, 0],\n",
              " [1, 0],\n",
              " [1, 0],\n",
              " [0, 1],\n",
              " [1, 0],\n",
              " [0, 1],\n",
              " [0, 1],\n",
              " [0, 1],\n",
              " [0, 1],\n",
              " [1, 0],\n",
              " [0, 1],\n",
              " [1, 0],\n",
              " [1, 0],\n",
              " [0, 1],\n",
              " [0, 1],\n",
              " ...]"
            ]
          },
          "metadata": {
            "tags": []
          },
          "execution_count": 52
        }
      ]
    },
    {
      "cell_type": "code",
      "metadata": {
        "colab": {
          "base_uri": "https://localhost:8080/"
        },
        "id": "xJS-NDci5gst",
        "outputId": "3d24ed06-4315-4a39-fffc-ab9b93def4f6"
      },
      "source": [
        "from sklearn.metrics import accuracy_score\n",
        "accuracy_score(y_test, y_pred)"
      ],
      "execution_count": null,
      "outputs": [
        {
          "output_type": "execute_result",
          "data": {
            "text/plain": [
              "0.922192151556157"
            ]
          },
          "metadata": {
            "tags": []
          },
          "execution_count": 53
        }
      ]
    },
    {
      "cell_type": "code",
      "metadata": {
        "colab": {
          "base_uri": "https://localhost:8080/"
        },
        "id": "F-Vyd2am9mu8",
        "outputId": "1a37929c-842b-4b98-c3fe-e0a20ef34ab9"
      },
      "source": [
        "from sklearn.metrics import precision_recall_fscore_support\n",
        "precision_recall_fscore_support(y_test, y_pred, average='weighted')"
      ],
      "execution_count": null,
      "outputs": [
        {
          "output_type": "execute_result",
          "data": {
            "text/plain": [
              "(0.9236813711281776, 0.922192151556157, 0.9224704692453226, None)"
            ]
          },
          "metadata": {
            "tags": []
          },
          "execution_count": 54
        }
      ]
    },
    {
      "cell_type": "code",
      "metadata": {
        "id": "zJZr4yX1E7Im"
      },
      "source": [
        "y_teststring = []\n",
        "y_predstring = []\n",
        "for i in range(0,1478):\n",
        "  if y_test[i][0] == 1 and y_test[i][1] == 0:\n",
        "    y_teststring.append(\"Wrong Answer\")\n",
        "  else:\n",
        "    y_teststring.append(\"Correct Answer\")\n",
        "\n",
        "for i in range(0,1478):\n",
        "  if y_pred[i][0] == 1 and y_pred[i][1] == 0:\n",
        "    y_predstring.append(\"Wrong Answer\")\n",
        "  else:\n",
        "    y_predstring.append(\"Correct Answer\")"
      ],
      "execution_count": null,
      "outputs": []
    },
    {
      "cell_type": "code",
      "metadata": {
        "colab": {
          "base_uri": "https://localhost:8080/",
          "height": 266
        },
        "id": "wOkH2LD-CCvN",
        "outputId": "516dd7bb-5a50-4e5f-dbf1-06ad06e073f8"
      },
      "source": [
        "from sklearn.metrics import confusion_matrix\n",
        "import seaborn as sn\n",
        "from pandas import DataFrame\n",
        "columns = [\"Wrong Answer\", \"Correct Answer\"]\n",
        "\n",
        "confm = confusion_matrix(y_teststring,y_predstring)\n",
        "df_cm = DataFrame(confm, index=columns, columns= columns)\n",
        "\n",
        "ax = sn.heatmap(df_cm, cmap='Blues', annot=True)"
      ],
      "execution_count": null,
      "outputs": [
        {
          "output_type": "display_data",
          "data": {
            "image/png": "[encoded data removed]",
            "text/plain": [
              "<Figure size 432x288 with 2 Axes>"
            ]
          },
          "metadata": {
            "tags": [],
            "needs_background": "light"
          }
        }
      ]
    },
    {
      "cell_type": "code",
      "metadata": {
        "id": "30I517WwA8Vz"
      },
      "source": [
        "import pickle\n",
        "\n",
        "# saving\n",
        "with open('tokenizer.pickle', 'wb') as handle:\n",
        "    pickle.dump(tokenizer, handle, protocol=pickle.HIGHEST_PROTOCOL)\n",
        "\n",
        "# loading\n",
        "with open('tokenizer.pickle', 'rb') as handle:\n",
        "    tokenizer = pickle.load(handle)"
      ],
      "execution_count": null,
      "outputs": []
    },
    {
      "cell_type": "code",
      "metadata": {
        "id": "am35v9Jriumj"
      },
      "source": [],
      "execution_count": null,
      "outputs": []
    }
  ]
}